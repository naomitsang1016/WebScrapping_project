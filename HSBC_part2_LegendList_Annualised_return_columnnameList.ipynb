{
 "cells": [
  {
   "cell_type": "code",
   "execution_count": null,
   "id": "36d5eaa0",
   "metadata": {},
   "outputs": [],
   "source": [
    "# import libraries\n",
    "from bs4 import BeautifulSoup\n",
    "import requests\n",
    "import pandas as pd\n",
    "import re\n",
    "import numpy as np\n",
    "from selenium import webdriver\n",
    "from selenium.webdriver.common.keys import Keys\n",
    "from selenium.webdriver.support.ui import WebDriverWait"
   ]
  },
  {
   "cell_type": "code",
   "execution_count": null,
   "id": "53a6e466",
   "metadata": {},
   "outputs": [],
   "source": [
    "from selenium.webdriver import ActionChains, Chrome\n",
    "import time"
   ]
  },
  {
   "cell_type": "code",
   "execution_count": null,
   "id": "a1d6245f",
   "metadata": {},
   "outputs": [],
   "source": [
    "unit_trust = pd.read_csv('code_list.csv')"
   ]
  },
  {
   "cell_type": "code",
   "execution_count": null,
   "id": "2e6a655e",
   "metadata": {},
   "outputs": [],
   "source": [
    "#get all legends\n",
    "\n",
    "for i in range(len(unit_trust)):\n",
    "    #get URL & append to list\n",
    "    URL=url+unit_trust['Code'][i]\n",
    "    \n",
    "    try:\n",
    "        try:\n",
    "        #get the html & prettify\n",
    "            driver = webdriver.Chrome()\n",
    "            driver.maximize_window()\n",
    "            driver.get(URL) #replacing the requests.get step\n",
    "            time.sleep(3)\n",
    "            driver.find_element_by_xpath(\"/html/body/div[1]/div/div[5]/div[3]/div[1]/div/div[2]/a/span\").click()\n",
    "        except:\n",
    "        #get the html & prettify\n",
    "            driver = webdriver.Chrome()\n",
    "            driver.maximize_window()\n",
    "            driver.get(URL) #replacing the requests.get step\n",
    "            time.sleep(3)\n",
    "            driver.find_element_by_xpath(\"/html/body/div[1]/div/div[5]/div[3]/div[1]/div/div[2]/a/span\").click()\n",
    "    except:\n",
    "        try:\n",
    "        #get the html & prettify\n",
    "            driver = webdriver.Chrome()\n",
    "            driver.maximize_window()\n",
    "            driver.get(URL) #replacing the requests.get step\n",
    "            time.sleep(3)\n",
    "            driver.find_element_by_xpath(\"/html/body/div[1]/div/div[5]/div[3]/div[1]/div/div[2]/a/span\").click()\n",
    "        except:\n",
    "        #get the html & prettify\n",
    "            driver = webdriver.Chrome()\n",
    "            driver.maximize_window()\n",
    "            driver.get(URL) #replacing the requests.get step\n",
    "            time.sleep(3)\n",
    "            driver.find_element_by_xpath(\"/html/body/div[1]/div/div[5]/div[3]/div[1]/div/div[2]/a/span\").click()\n",
    "            \n",
    "    subhtml = driver.page_source #replacing the html.text\n",
    "    soup = BeautifulSoup(subhtml, \"html.parser\")\n",
    "    soup.prettify()\n",
    "    all_legends=list(set(all_legends+[i.text for i in soup.find_all(\"dt\",attrs={\"id\":\"legendName\"})]))"
   ]
  },
  {
   "cell_type": "code",
   "execution_count": null,
   "id": "7a61b5f9",
   "metadata": {},
   "outputs": [],
   "source": [
    "#legend name csv\n",
    "legend_list_csv=pd.DataFrame()\n",
    "legend_list_csv['all_legends']=all_legends\n",
    "legend_list_csv.to_csv('legend_list.csv', index=False)"
   ]
  },
  {
   "cell_type": "code",
   "execution_count": null,
   "id": "47c417af",
   "metadata": {},
   "outputs": [],
   "source": [
    "#ann_returns_columnheader_csv\n",
    "ann_returns_columnheader=pd.DataFrame()\n",
    "ann_returns_columnheader['ann_returns_columnheader']=[i.text for i in soup.find_all(role=\"columnheader\")[1:8]]\n",
    "ann_returns_columnheader.to_csv('ann_returns_columnheader.csv', index=False)"
   ]
  }
 ],
 "metadata": {
  "kernelspec": {
   "display_name": "Python 3 (ipykernel)",
   "language": "python",
   "name": "python3"
  },
  "language_info": {
   "codemirror_mode": {
    "name": "ipython",
    "version": 3
   },
   "file_extension": ".py",
   "mimetype": "text/x-python",
   "name": "python",
   "nbconvert_exporter": "python",
   "pygments_lexer": "ipython3",
   "version": "3.9.7"
  }
 },
 "nbformat": 4,
 "nbformat_minor": 5
}
